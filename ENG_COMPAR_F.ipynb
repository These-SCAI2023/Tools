{
 "cells": [
  {
   "cell_type": "markdown",
   "metadata": {},
   "source": [
    "# Executable Papers"
   ]
  },
  {
   "cell_type": "code",
   "execution_count": 4,
   "metadata": {},
   "outputs": [],
   "source": [
    "import spacy\n",
    "from spacy import displacy\n",
    "import sys\n",
    "import glob\n",
    "import pandas as pd\n",
    "import time\n",
    "import matplotlib.pyplot as plt\n",
    "from matplotlib_venn import venn2\n"
   ]
  },
  {
   "cell_type": "markdown",
   "metadata": {},
   "source": [
    "## DISPLACY"
   ]
  },
  {
   "cell_type": "code",
   "execution_count": 8,
   "metadata": {},
   "outputs": [
    {
     "name": "stderr",
     "output_type": "stream",
     "text": [
      "/home/antonomaz/anaconda3/lib/python3.8/site-packages/spacy/displacy/__init__.py:94: UserWarning: [W011] It looks like you're calling displacy.serve from within a Jupyter notebook or a similar environment. This likely means you're already running a local web server, so there's no need to make displaCy start another one. Instead, you should be able to replace displacy.serve with displacy.render to show the visualization.\n",
      "  warnings.warn(Warnings.W011)\n"
     ]
    },
    {
     "data": {
      "text/html": [
       "<span class=\"tex2jax_ignore\"><!DOCTYPE html>\n",
       "<html lang=\"fr\">\n",
       "    <head>\n",
       "        <title>displaCy</title>\n",
       "    </head>\n",
       "\n",
       "    <body style=\"font-size: 16px; font-family: -apple-system, BlinkMacSystemFont, 'Segoe UI', Helvetica, Arial, sans-serif, 'Apple Color Emoji', 'Segoe UI Emoji', 'Segoe UI Symbol'; padding: 4rem 2rem; direction: ltr\">\n",
       "<figure style=\"margin-bottom: 6rem\">\n",
       "<div class=\"entities\" style=\"line-height: 2.5; direction: ltr\">Je suis un aventurier</br>Et j'ai beaucoup bourlingué.</br>J'ai fait la vie \n",
       "<mark class=\"entity\" style=\"background: #ff9561; padding: 0.45em 0.6em; margin: 0 0.25em; line-height: 1; border-radius: 0.35em;\">\n",
       "    Varsovie\n",
       "    <span style=\"font-size: 0.8em; font-weight: bold; line-height: 1; border-radius: 0.35em; text-transform: uppercase; vertical-align: middle; margin-left: 0.5rem\">LOC</span>\n",
       "</mark>\n",
       ".</br>J'ai fait le mort à \n",
       "<mark class=\"entity\" style=\"background: #ff9561; padding: 0.45em 0.6em; margin: 0 0.25em; line-height: 1; border-radius: 0.35em;\">\n",
       "    Baltimore\n",
       "    <span style=\"font-size: 0.8em; font-weight: bold; line-height: 1; border-radius: 0.35em; text-transform: uppercase; vertical-align: middle; margin-left: 0.5rem\">LOC</span>\n",
       "</mark>\n",
       ".</br>J'ai fait le rat a \n",
       "<mark class=\"entity\" style=\"background: #ddd; padding: 0.45em 0.6em; margin: 0 0.25em; line-height: 1; border-radius: 0.35em;\">\n",
       "    Camberra\n",
       "    <span style=\"font-size: 0.8em; font-weight: bold; line-height: 1; border-radius: 0.35em; text-transform: uppercase; vertical-align: middle; margin-left: 0.5rem\">MISC</span>\n",
       "</mark>\n",
       ".</br>J'ai joué aux dés à \n",
       "<mark class=\"entity\" style=\"background: #ff9561; padding: 0.45em 0.6em; margin: 0 0.25em; line-height: 1; border-radius: 0.35em;\">\n",
       "    Yaoundé\n",
       "    <span style=\"font-size: 0.8em; font-weight: bold; line-height: 1; border-radius: 0.35em; text-transform: uppercase; vertical-align: middle; margin-left: 0.5rem\">LOC</span>\n",
       "</mark>\n",
       ".</br>J'ai joué aux dames à \n",
       "<mark class=\"entity\" style=\"background: #ff9561; padding: 0.45em 0.6em; margin: 0 0.25em; line-height: 1; border-radius: 0.35em;\">\n",
       "    Amsterdam\n",
       "    <span style=\"font-size: 0.8em; font-weight: bold; line-height: 1; border-radius: 0.35em; text-transform: uppercase; vertical-align: middle; margin-left: 0.5rem\">LOC</span>\n",
       "</mark>\n",
       ".</br>J'ai fait des games à \n",
       "<mark class=\"entity\" style=\"background: #ff9561; padding: 0.45em 0.6em; margin: 0 0.25em; line-height: 1; border-radius: 0.35em;\">\n",
       "    Binningham\n",
       "    <span style=\"font-size: 0.8em; font-weight: bold; line-height: 1; border-radius: 0.35em; text-transform: uppercase; vertical-align: middle; margin-left: 0.5rem\">LOC</span>\n",
       "</mark>\n",
       ".</br>Je suis un aventurier</br>Avec lequel il faut compter.</br>Je suis un aventurier</br>Avec lequel il faut compter.</br>J'ai été à \n",
       "<mark class=\"entity\" style=\"background: #ff9561; padding: 0.45em 0.6em; margin: 0 0.25em; line-height: 1; border-radius: 0.35em;\">\n",
       "    Bornéo\n",
       "    <span style=\"font-size: 0.8em; font-weight: bold; line-height: 1; border-radius: 0.35em; text-transform: uppercase; vertical-align: middle; margin-left: 0.5rem\">LOC</span>\n",
       "</mark>\n",
       ".</br>J'ai été pompette à \n",
       "<mark class=\"entity\" style=\"background: #ff9561; padding: 0.45em 0.6em; margin: 0 0.25em; line-height: 1; border-radius: 0.35em;\">\n",
       "    Papeete\n",
       "    <span style=\"font-size: 0.8em; font-weight: bold; line-height: 1; border-radius: 0.35em; text-transform: uppercase; vertical-align: middle; margin-left: 0.5rem\">LOC</span>\n",
       "</mark>\n",
       ".</br>J'ai bu de l'eau à \n",
       "<mark class=\"entity\" style=\"background: #ff9561; padding: 0.45em 0.6em; margin: 0 0.25em; line-height: 1; border-radius: 0.35em;\">\n",
       "    Bordeaux\n",
       "    <span style=\"font-size: 0.8em; font-weight: bold; line-height: 1; border-radius: 0.35em; text-transform: uppercase; vertical-align: middle; margin-left: 0.5rem\">LOC</span>\n",
       "</mark>\n",
       ".</br>J'ai dit tant pis à \n",
       "<mark class=\"entity\" style=\"background: #ff9561; padding: 0.45em 0.6em; margin: 0 0.25em; line-height: 1; border-radius: 0.35em;\">\n",
       "    Tampico\n",
       "    <span style=\"font-size: 0.8em; font-weight: bold; line-height: 1; border-radius: 0.35em; text-transform: uppercase; vertical-align: middle; margin-left: 0.5rem\">LOC</span>\n",
       "</mark>\n",
       ".</br>J'ai fait l'soldat à \n",
       "<mark class=\"entity\" style=\"background: #ff9561; padding: 0.45em 0.6em; margin: 0 0.25em; line-height: 1; border-radius: 0.35em;\">\n",
       "    Bogola\n",
       "    <span style=\"font-size: 0.8em; font-weight: bold; line-height: 1; border-radius: 0.35em; text-transform: uppercase; vertical-align: middle; margin-left: 0.5rem\">LOC</span>\n",
       "</mark>\n",
       "</br>Et des calculs à \n",
       "<mark class=\"entity\" style=\"background: #ff9561; padding: 0.45em 0.6em; margin: 0 0.25em; line-height: 1; border-radius: 0.35em;\">\n",
       "    Calcutta\n",
       "    <span style=\"font-size: 0.8em; font-weight: bold; line-height: 1; border-radius: 0.35em; text-transform: uppercase; vertical-align: middle; margin-left: 0.5rem\">LOC</span>\n",
       "</mark>\n",
       ".</br>A moi, faut pas m'en raconter,</br>Parce que, vraiment, j'en ai bavé.</br>A moi, faut pas m'en raconter,</br>Parce que, vraiment, j'en ai bavé.</br>J'ai été errant en \n",
       "<mark class=\"entity\" style=\"background: #ff9561; padding: 0.45em 0.6em; margin: 0 0.25em; line-height: 1; border-radius: 0.35em;\">\n",
       "    Téhéran\n",
       "    <span style=\"font-size: 0.8em; font-weight: bold; line-height: 1; border-radius: 0.35em; text-transform: uppercase; vertical-align: middle; margin-left: 0.5rem\">LOC</span>\n",
       "</mark>\n",
       "</br>Et au sana à \n",
       "<mark class=\"entity\" style=\"background: #ff9561; padding: 0.45em 0.6em; margin: 0 0.25em; line-height: 1; border-radius: 0.35em;\">\n",
       "    Saana\n",
       "    <span style=\"font-size: 0.8em; font-weight: bold; line-height: 1; border-radius: 0.35em; text-transform: uppercase; vertical-align: middle; margin-left: 0.5rem\">LOC</span>\n",
       "</mark>\n",
       ".</br>J'ai fait l'chasseur à \n",
       "<mark class=\"entity\" style=\"background: #ddd; padding: 0.45em 0.6em; margin: 0 0.25em; line-height: 1; border-radius: 0.35em;\">\n",
       "    Kinshassa\n",
       "    <span style=\"font-size: 0.8em; font-weight: bold; line-height: 1; border-radius: 0.35em; text-transform: uppercase; vertical-align: middle; margin-left: 0.5rem\">PER</span>\n",
       "</mark>\n",
       "</br>Et la nounou à \n",
       "<mark class=\"entity\" style=\"background: #ff9561; padding: 0.45em 0.6em; margin: 0 0.25em; line-height: 1; border-radius: 0.35em;\">\n",
       "    Cotonou\n",
       "    <span style=\"font-size: 0.8em; font-weight: bold; line-height: 1; border-radius: 0.35em; text-transform: uppercase; vertical-align: middle; margin-left: 0.5rem\">LOC</span>\n",
       "</mark>\n",
       ".</br>J'ai fait de la tôle à \n",
       "<mark class=\"entity\" style=\"background: #ff9561; padding: 0.45em 0.6em; margin: 0 0.25em; line-height: 1; border-radius: 0.35em;\">\n",
       "    Dôle\n",
       "    <span style=\"font-size: 0.8em; font-weight: bold; line-height: 1; border-radius: 0.35em; text-transform: uppercase; vertical-align: middle; margin-left: 0.5rem\">LOC</span>\n",
       "</mark>\n",
       ".</br>J'ai été lourdé à \n",
       "<mark class=\"entity\" style=\"background: #ff9561; padding: 0.45em 0.6em; margin: 0 0.25em; line-height: 1; border-radius: 0.35em;\">\n",
       "    Lourdes\n",
       "    <span style=\"font-size: 0.8em; font-weight: bold; line-height: 1; border-radius: 0.35em; text-transform: uppercase; vertical-align: middle; margin-left: 0.5rem\">LOC</span>\n",
       "</mark>\n",
       ".</br>Je suis un aventurier.</br>J'en ai vrairnent beaucoup bavé.</br>Je suis un aventurier.</br>J'en ai vrairnent beaucoup bavé.</br>J'ai été crétin \n",
       "<mark class=\"entity\" style=\"background: #ff9561; padding: 0.45em 0.6em; margin: 0 0.25em; line-height: 1; border-radius: 0.35em;\">\n",
       "    Créteil\n",
       "    <span style=\"font-size: 0.8em; font-weight: bold; line-height: 1; border-radius: 0.35em; text-transform: uppercase; vertical-align: middle; margin-left: 0.5rem\">LOC</span>\n",
       "</mark>\n",
       ".</br>J'ai eu la \n",
       "<mark class=\"entity\" style=\"background: #ff9561; padding: 0.45em 0.6em; margin: 0 0.25em; line-height: 1; border-radius: 0.35em;\">\n",
       "    ber1ue\n",
       "    <span style=\"font-size: 0.8em; font-weight: bold; line-height: 1; border-radius: 0.35em; text-transform: uppercase; vertical-align: middle; margin-left: 0.5rem\">LOC</span>\n",
       "</mark>\n",
       " à \n",
       "<mark class=\"entity\" style=\"background: #ff9561; padding: 0.45em 0.6em; margin: 0 0.25em; line-height: 1; border-radius: 0.35em;\">\n",
       "    berlin\n",
       "    <span style=\"font-size: 0.8em; font-weight: bold; line-height: 1; border-radius: 0.35em; text-transform: uppercase; vertical-align: middle; margin-left: 0.5rem\">LOC</span>\n",
       "</mark>\n",
       ".</br>J'ai été gentil à \n",
       "<mark class=\"entity\" style=\"background: #ff9561; padding: 0.45em 0.6em; margin: 0 0.25em; line-height: 1; border-radius: 0.35em;\">\n",
       "    Port-Gentil\n",
       "    <span style=\"font-size: 0.8em; font-weight: bold; line-height: 1; border-radius: 0.35em; text-transform: uppercase; vertical-align: middle; margin-left: 0.5rem\">LOC</span>\n",
       "</mark>\n",
       "</br>Et malpoli à \n",
       "<mark class=\"entity\" style=\"background: #ff9561; padding: 0.45em 0.6em; margin: 0 0.25em; line-height: 1; border-radius: 0.35em;\">\n",
       "    Tripoli\n",
       "    <span style=\"font-size: 0.8em; font-weight: bold; line-height: 1; border-radius: 0.35em; text-transform: uppercase; vertical-align: middle; margin-left: 0.5rem\">LOC</span>\n",
       "</mark>\n",
       ".</br>J'ai fait la vie à varsovie</br>Et le mort a \n",
       "<mark class=\"entity\" style=\"background: #ff9561; padding: 0.45em 0.6em; margin: 0 0.25em; line-height: 1; border-radius: 0.35em;\">\n",
       "    Baltimore\n",
       "    <span style=\"font-size: 0.8em; font-weight: bold; line-height: 1; border-radius: 0.35em; text-transform: uppercase; vertical-align: middle; margin-left: 0.5rem\">LOC</span>\n",
       "</mark>\n",
       ".\n",
       "J'étais un aventurier.\n",
       "Maintenant, c'est terminé.\n",
       "J'étais un aventurier.\n",
       "Maintenant, c'est terminé.\n",
       "</div>\n",
       "</figure>\n",
       "</body>\n",
       "</html></span>"
      ],
      "text/plain": [
       "<IPython.core.display.HTML object>"
      ]
     },
     "metadata": {},
     "output_type": "display_data"
    },
    {
     "name": "stdout",
     "output_type": "stream",
     "text": [
      "\n",
      "Using the 'ent' visualizer\n",
      "Serving on http://0.0.0.0:5000 ...\n",
      "\n",
      "Shutting down server on port 5000.\n"
     ]
    }
   ],
   "source": [
    "from spacy import displacy\n",
    "\n",
    "text = open(\"./data/2_dutronc_noise\")\n",
    "#text = open(\"./data_dutron_txt/0_dutronc_clean\")\n",
    "text_lire = text.read()\n",
    "text.close()\n",
    "ner_model1 = spacy.load(\"fr_core_news_md\")\n",
    "doc1 =  ner_model1(text_lire)\n",
    "displacy.serve(doc1,style=\"ent\")"
   ]
  },
  {
   "cell_type": "markdown",
   "metadata": {},
   "source": [
    "## Compter nombre entités nommées spatiales par ligne"
   ]
  },
  {
   "cell_type": "code",
   "execution_count": 5,
   "metadata": {},
   "outputs": [],
   "source": [
    "def nombre_eng_ligne(tab_L_data):\n",
    "    list_result = [[]]\n",
    "    compt=0\n",
    "    compt1=0\n",
    "    # list_result[compt].append(tab_L_data[0][0])\n",
    "    # list_result[compt].append(\"nombre d'entité nommée\")\n",
    "    # list_result[compt].append(tab_L_data[0][2])\n",
    "    # list_result[compt].append(\"nombre d'entité nommée\")\n",
    "    for ligne in tab_L_data:\n",
    "        if compt1 == 0:\n",
    "            compt1=compt1+1\n",
    "            continue\n",
    "        list_result.append([])\n",
    "        list_result[compt].append(ligne[1])\n",
    "        list_result[compt].append(len(ligne[1]))\n",
    "        list_result[compt].append(ligne[3])\n",
    "        list_result[compt].append(len(ligne[3]))\n",
    "        ##Pour tableau représentation\n",
    "        # list_result.append([])\n",
    "        # list_result[compt].append(str(ligne[1]))\n",
    "        # list_result[compt].append(str(len(ligne[1])))\n",
    "        # list_result[compt].append(str(ligne[3]))\n",
    "        # list_result[compt].append(str(len(ligne[3])))\n",
    "        compt=compt+1\n",
    "    return (list_result)"
   ]
  },
  {
   "cell_type": "markdown",
   "metadata": {},
   "source": [
    "## Comparer les EN-G pour définir les VP, FP et FN"
   ]
  },
  {
   "cell_type": "code",
   "execution_count": 6,
   "metadata": {},
   "outputs": [],
   "source": [
    "def compare_eng(tab_resultat):\n",
    "    count_ligne=0\n",
    "    VP, FP, FN, AUTRE = [], [], [], []\n",
    "    for ligne in tab_resultat:\n",
    "        if len(ligne) == 0:\n",
    "            continue\n",
    "        taillemin =  min(ligne[1], ligne[3])\n",
    "        #print(count_ligne)\n",
    "        count_ligne=count_ligne+1\n",
    "        if taillemin == 0:\n",
    "            if count_ligne == (len(tab_resultat)-1):\n",
    "                break\n",
    "            else:\n",
    "                continue\n",
    "        for i in range (0, taillemin):\n",
    "            a=ligne[0][i]\n",
    "            b= ligne[2][i]\n",
    "            if str(a) == str(b) :\n",
    "                VP.append(b)\n",
    "            else:\n",
    "                if len(str(b)) == 1 or len(str(a))==1 :\n",
    "                    #https://fr.wikipedia.org/wiki/Liste_de_toponymes_courts#Une_lettre\n",
    "                    AUTRE.append(b)\n",
    "                else:\n",
    "                    carac_1_a,carac_2_a,carac_3_a = str(a)[0],str(a)[1],str(a)[-1]\n",
    "                    #print(\"carac_1_a,carac_2_a,carac_3_a\",carac_1_a,carac_2_a,carac_3_a)\n",
    "                    carac_1_b,carac_2_b,carac_3_b = str(b)[0],str(b)[1],str(b)[-1]\n",
    "                    #print(\"carac_1_b,carac_2_b,carac_3_b\",carac_1_b,carac_2_b,carac_3_b)\n",
    "                    if carac_1_a == carac_1_b and carac_2_a == carac_2_b and carac_3_a == carac_3_b:\n",
    "                        FN.append(b)\n",
    "                    else:\n",
    "                        FP.append(b)    \n",
    "    return(VP,FP,FN,AUTRE)\n",
    "                "
   ]
  },
  {
   "cell_type": "markdown",
   "metadata": {},
   "source": [
    "## MAIN\n",
    "#### Il faudrait reprendre le code pour répertorier toutes les EN puis discriminer les EN-G des autres. Ceci permettra de repérer lorsque'un modèle attribu un label autre que \"LOC\" à un lieu."
   ]
  },
  {
   "cell_type": "code",
   "execution_count": 18,
   "metadata": {
    "scrolled": true
   },
   "outputs": [
    {
     "name": "stdout",
     "output_type": "stream",
     "text": [
      "./data/data_aimard/Aimard_txt_ocr_alignement.txt\n",
      "./data/data_aimard/Aimard_txt_propre_alignement.txt\n",
      "enty Apacheria\n",
      "<class 'spacy.tokens.span.Span'>\n",
      "<class 'list'>\n",
      "<class 'list'>\n",
      "result_VP\n",
      "[Indiens, Indiens, Mexicains]\n",
      "result_FP\n",
      "[Prologue, Espagnols, Incas, États, État, État , sierra Madre, golfe de Californie, terre, Apaches, Pacifique, Cerro de la campana -- Montagne, rue du Rosaire, tourbillon, cris, Ciboto, garde, Pérou, citernes, hacienda del Milagro, oreiller, Panama, loyauté, épais, hacienda del Milagro, marier, scintiller, pasto, hacienda, Eusébio, l'assassin, aigle, Eusébio, le soleil, forêt vierge, muette, avez, tache, Eusébio, Eusébio, Eusébio, Canadienne, Indiens, Blanc, nerveux, hanches, exercice, Indiens, sais, Belhumeur, soleil, piste des Comanches, soleil, Arkansas, Indiens, Tête, Arkansas, Comanches , Indiens, aigle, Indien, Comanches, réfléchir, Comanches, Vert-de-gris, Indiens, Canadien, Belhumeur, sais, Belhumeur, terre, Châteaux Blancs, Belhumeur, piste des Comanches, Canadien, Indien, liège, grotte, aigle, incliné, suprême degré, Américaines, bagatelle, statue, Jupiter, Indiens, cacher, liège, Aigle, statue, Indiens, Indien, Indien, Belhumeur, Tête, Indiens, trappes, Aigle, Indiens, la terre, Mexicains, Mexicains, Mexicains, remercier, Belhumeur, États-Unis, tyrannie, États-Unis, Américains, Blancs, Utique, État, simple, Indiens, Indiens, vous voudrez, Indiens, Comanches, Indiens, Indiens, Indiens, baïonnette, lèvres, Comanches, Indiens, Indien, Comanches, épais, Belhumeur, Canadien, état, Belhumeur, Indiens, Indiens, Belhumeur, Tête, Comanches, Mexicains, ajouta, sais, Belhumeur, veuillez, Loyal, caravane, soleil, l'Afrique, profond, sienne, surprendre, Babillard\n",
      ", capitaine, Mexique, los Plateros, incliné, Mexico, Mexico, Blancs, prairie, franges, mocksens, Élan, hum !, Élan, oreille, appartenez, Ouest , Élan, Soyez, Élan, La\n",
      ", soleil, Élan, trappeur, Élan, Indiens, terre, Europe, Québec, Élan, Élan, Babillard\n",
      ", soleil, inquiétudes, lune, espérais, Conseille, niais, Élan, pouvez, soleil, hoché, représailles, Aigle, Indiens, Indien, Comanche, narines, Indien, le vieillard, famille, Comanche, Indien, Espagnols, vieillard, guerrier, sagesse, Tête-d'Aigle, Tête-d', Aigle, Comanches, voyez, Comanches, Canadien, Belhumeur, Comanches , Tête, indien, Élan, Élan, Élan, Élan, Eusébio , Eusébio , Tête, Belhumeur, Belhumeur , saccadée, Tête, Tête, Aigle, Comanches, poitrine, Soleil, bois du\n",
      ", impatience, Indiens, Tête, Indiens, lambeaux, Tête, indien, pâle, Indiens, Canadien, Tête, grands lacs, songez, sais, Blancs, Indien, Loyal, Longs Couteaux de l'Ouest, Belhumeur, Indiens, mondes, Russe, rochers, Babillard , état, capitaine, ajouta, renverse, mit , soleil, Mexicains, Élan, terre, Indiens, surprendre, frénésie, le soleil, savez, Babillard , Babillard, cheval, galop, Élan, Élan, Comanches, Élan, Eusébio, Bison, Indiens, Tête, Tête, Comanches, Aguilar, Mexicains, Mexico, Ouaktehno, Mexicains, cannibales, rochers, rochers, suprême, persécuté, signala, Mexicains, Indiens, bois-chandelle, surprise, Tête, Pardonnez, admirais, pardonnez, Avez, repas, venaison, capitaine, Mexico, Belhumeur, avais, Mexico, Doña, cher, croyez, oreille, Belhumeur, Délicate, lion, Indiens, altiers, grotte, grotte, Belhumeur, grotte, Mexicains, bandit, Ouest, lune, le soleil, Aigle , capitaine, cervelle , grotte, Eshis, Soleil, Eusébio, salua, croyez, vaut, grotte, Comanches, ai, trappeurs, gambusinos, Indiens, Indiens, méfiais, Croyez, Comanches, Élan, grotte, le Soleil, Chefs, savez, Blancs, Indiens, Indiens, Comanches, Tête, Indiens, grotte, câline, sienne, pensif, croyez, Mexique, Guaymas, Amérique, milles, Mexicains, compagnon, Élan, Belhumeur, manger, voudrais, ajouta, exigez, Guaymas]\n",
      "result_FN\n",
      "[]\n",
      "result_AUTRE\n",
      "[-, -, -, vase , -, Espagnol, -, paresse, capitaine]\n",
      "<class 'str'>\n",
      "Liste VP ['Indiens', 'Indiens', 'Mexicains']\n"
     ]
    },
    {
     "data": {
      "image/png": "[encoded data removed]",
      "text/plain": [
       "<Figure size 432x288 with 1 Axes>"
      ]
     },
     "metadata": {},
     "output_type": "display_data"
    },
    {
     "name": "stdout",
     "output_type": "stream",
     "text": [
      "<class 'spacy.tokens.span.Span'>\n",
      "precision 0.783289817232376\n",
      "rappel 100.0\n",
      "F_mesure 1.5544041450777204\n",
      "106.40457010269165\n",
      "./data/data_aimard/Aimard_txt_ocr_alignement.txt\n",
      "./data/data_aimard/Aimard_txt_propre_alignement.txt\n",
      "enty Apacheria\n",
      "<class 'spacy.tokens.span.Span'>\n",
      "<class 'list'>\n",
      "<class 'list'>\n",
      "result_VP\n",
      "[Indiens, Indiens, Indiens, Mexicains]\n",
      "result_FP\n",
      "[Espagnols, Incas, l'Amérique, État , sierra Madre, Pacifique, incurie, Hermosillo, tumulte, Cerro, vaquero, lepero, lepero, galop, nopals, citernes, tapia, adoves, Panama, hacienda del Milagro, Abandonnera, bruni, désert , hanches, buffalos, Indiens, Indiens, Mocksens, soleil, soleil, Arkansas, Indiens, Comanches, Comanches , Indiens, Canadien, Canadien, Tête, Indiens, Comanches, La Tête-d'Aigle, Comanches, Vert-de-gris, terre, galerie, Indien, Canadien, Indien, Comanches, gambusinos demi-sang, neiges du Chimborazo, Jupiter, Américaines, statue, Linnée, Indiens, mescal, soleil, gambusinos, terre, Indiens, Indiens, Indien, Comanches, Europe, Comanches, Aigle, Indiens, Comanches, Tête, Aigle, trappes, Indiens, Indiens, Mexicains, Mexicains, États-Unis, États barbaresques, Blancs, Utique, État, Indiens, Indiens, Indiens, Comanches, Acropolis, Aigle, Pas, Comanches, Indiens, Américains, suprême, Comanches, Indiens, Américains, Tête, Cœur, Belhumeur, état, Indiens, Indiens, Cœur, sentinelles, Mexicains, Buffalo, Mexicains, États-Unis, los Plateros, lune, Mexico, Plateros, Tiens, le soleil, Noir, soleil, Élan, Élan, Élan, Élan, Noir, terre, couis, Europe, Élan, soleil, Élan, Tiens, cher, état, Blancs, Indiens, Serpent, Aigle, Indiens, Indien, Indien, Espagnols, Indien, contremarches, Comanches, Tête, Canadien, Tête, Québec, Élan, Élan, Aigle, sauvages, Tête, le soleil, Aigle, le Soleil, Aigle, Aigle, Indien, Tête, Indiens, Aigle, Canadien, Tête, Aigle, Canadien, Indiens, Serpent, Tête, Cœur, Aigle, Indien, Belhumeur, Belhumeur, Russe, Chinois, Ouest , caravanes, sentinelles, terre, Mexicains, Mexicains, Mexique, Mexicains, le soleil, Élan, Comanches, Élan, Comanches, Indiens, Tête, Indiens, Tête, Comanches, état, suprême, Comanches, bohémiens, Élan, Tête, grotte , Indiens, Mexico, Mexico, Luz, Cœur, Indiennes, Mexicains, Ouest, Tête, Aigle, Cœur, Indiens, Aigle, le Soleil, salua, confiance, Belhumeur, gambusinos, Indiens, Indiens, Comanches, Élan, Tête, Aigle, Cœur, Aigle, la terre, Tâchez, Indiens, Aigle, Indiens, Partir, Élan, Indien, Indien, Aigle, piste des jaguars, Élan, Tête]\n",
      "result_FN\n",
      "[]\n",
      "result_AUTRE\n",
      "[V, Noir, I, Aigle]\n",
      "<class 'str'>\n",
      "Liste VP ['Indiens', 'Indiens', 'Mexicains', 'Indiens', 'Indiens', 'Indiens', 'Mexicains']\n"
     ]
    },
    {
     "data": {
      "image/png": "[encoded data removed]",
      "text/plain": [
       "<Figure size 432x288 with 1 Axes>"
      ]
     },
     "metadata": {},
     "output_type": "display_data"
    },
    {
     "name": "stdout",
     "output_type": "stream",
     "text": [
      "<class 'spacy.tokens.span.Span'>\n",
      "precision 1.6666666666666667\n",
      "rappel 100.0\n",
      "F_mesure 3.278688524590164\n",
      "218.99043345451355\n",
      "./data/data_aimard/Aimard_txt_ocr_alignement.txt\n",
      "./data/data_aimard/Aimard_txt_propre_alignement.txt\n",
      "enty Apacheria\n",
      "<class 'spacy.tokens.span.Span'>\n",
      "<class 'list'>\n",
      "<class 'list'>\n",
      "result_VP\n",
      "[Indiens, Indiens, Mexicains]\n",
      "result_FP\n",
      "[l'Amérique, Espagnols, Incas, l'Amérique, escopettes, États, État de Sonora, rio Gila, État , sierra Madre, Pacifique, rio Gila, Raousset, ciudad, pisé, Indiens, Cerro, Lassez, Rends, juez de letras, juez de letras, lepero, Hermosillo, Pérou, nopals, Panama, Le soleil, jardin des Oliviers, juez de letras, désert , Indien, Canadienne, rivière Rouge, Indiens Lune, hanches, daim, buffalos, Indiens, Indiens, soleil, soleil, Arkansas, Indiens, Blancs, La Tête, cher, suis, Canadien, Canadien, Indiens, Peaux, Indiens, terre, Châteaux Blancs, États-Unis, galerie, guet, Canadien, Indien, piste des Comanches, gambusinos, Chimborazo, Américaines, Babillard, mescal, Indiens, cacher, gambusinos, Babillard, terre, Indien, Indien, trappes, Aigle, Europe, Aigle, trappes, Indiens, Indiens, Mexicains, Mexicains, États-Unis, Océans, États barbaresques, Blancs, canots, Indiens, Indiens, Indiens, Blancs, Américains, Peaux, Blancs, Américains, Blancs, Indiens, Indiens, lion, Belhumeur, Indiens, Belhumeur, Indiens, Comanches, Belhumeur, piste de la Tête, Mexicains, Babillard, Babillard, Amérique, Mexicains, Mexicains, le Babillard, Buffalo, Mexicains, États-Unis, los Plateros, lune, Mexico, Plateros, Blancs, prairie, mocksens, glandée, tribu indienne, le soleil, Élan, Noir, Mexicains, soleil, Peaux, Élan, Noir, Élan, terre, Europe, Québec, Élan, Élan, Le Babillard, soleil, lune, Indiens, Élan, Conseille, le Babillard, Le Babillard, Noir, soleil, Indiens, Serpent, Aigle, Comanches, Indiens, le vieillard, le vieillard, sagesse, tromper, Peaux, prairies, Blancs, Aigle, Canadien, étang des castors, prierez, grotte de la rivière , Canadien, Tête, Aigle, Aigle, Peaux, le soleil, Aigle, Soleil, Aigle, Indiens, soleil, Aigle, Aigle, Peaux, Rouges, Canadien, Tête, Aigle, Peaux, côte, Aigle, Canadien, Indiens, Indiens, Blancs, Serpent, Tête, mondes, Russe, Indiens, États-Unis, Mexicains, Mexicains, Élan, soleil, Mexique, défense, Noir, hutte du trappeur, Élan, grotte du Vert-de-gris, Indiens, Aigle, Indiens, Aigle, broussailles, Mexicains, découvert, Mexico, Ouaktehno, suprême, Mexicains, Élan, Luz, Indiens, Luz, Élan, Tête, grotte , Indiens, Mexico, Mexico, Luz, croyez, Belhumeur, Mexicains, butte, Jupiter, lune, Indiens, Tête, le Soleil, salua, croyez, Belhumeur, Indiens, Aigle, le Soleil, Aigle, Laissons, Tâchez, Indiens, Comanches, Aigle, Mexique, croyez, Amérique, Élan, de l'Ouest, Indien, piste des jaguars, suis, Guaymas, Aigle, Indiens]\n",
      "result_FN\n",
      "[]\n",
      "result_AUTRE\n",
      "[I, Aigle]\n",
      "<class 'str'>\n",
      "Liste VP ['Indiens', 'Indiens', 'Mexicains', 'Indiens', 'Indiens', 'Indiens', 'Mexicains', 'Indiens', 'Indiens', 'Mexicains']\n"
     ]
    },
    {
     "data": {
      "image/png": "[encoded data removed]",
      "text/plain": [
       "<Figure size 432x288 with 1 Axes>"
      ]
     },
     "metadata": {},
     "output_type": "display_data"
    },
    {
     "name": "stdout",
     "output_type": "stream",
     "text": [
      "<class 'spacy.tokens.span.Span'>\n",
      "precision 1.1406844106463878\n",
      "rappel 100.0\n",
      "F_mesure 2.255639097744361\n",
      "333.71271085739136\n"
     ]
    }
   ],
   "source": [
    "start_time=time.time()\n",
    "precision_liste=[]\n",
    "rappel_liste=[]\n",
    "f_mesure_liste=[]\n",
    "\n",
    "##model_langue()\n",
    "liste_model_lang =[]\n",
    "liste_model_lang.append(\"fr_core_news_sm\")\n",
    "liste_model_lang.append('fr_core_news_lg')\n",
    "liste_model_lang.append('fr_core_news_md')\n",
    "\n",
    "\n",
    "Liste_VP=[]\n",
    "Liste_FN=[]\n",
    "\n",
    "\n",
    "\n",
    "for model in liste_model_lang:\n",
    "    ner_model = spacy.load(model)\n",
    "    \n",
    "    L = [[]]\n",
    "    #for num_path, path in enumerate(sorted(globlis.glob(\"data_dutron_txt/*\"))):\n",
    "    for num_path, path in enumerate(sorted(glob.glob(\"./data/data_aimard/*\"))):\n",
    "      print(path)\n",
    "      L[0].append(path)\n",
    "      L[0].append(\"ents\")\n",
    "      f = open(path)\n",
    "      lignes = f.readlines()\n",
    "      f.close()\n",
    "      for cpt, l in enumerate(lignes):\n",
    "        if (cpt+1)==len(L):\n",
    "          L.append([])\n",
    "        doc = ner_model(l)\n",
    "        L[cpt+1].append(l)\n",
    "        #print(doc.ents)\n",
    "        if doc.ents == ():\n",
    "            ent = doc.ents\n",
    "            # ent = str(doc.ents)# tableau Html\n",
    "        else:\n",
    "            listeent=[]\n",
    "            # ent=str()# tableau Html\n",
    "            ent=()\n",
    "            for enty in doc.ents:\n",
    "                if enty.label_==\"LOC\":#recupérer que les LOC\n",
    "                    listeent.append(enty)\n",
    "                # else:\n",
    "                #     listeent.append(enty.label_)\n",
    "                #     listeent.append(enty.text)\n",
    "            \n",
    "            ent=tuple(listeent)\n",
    "            #ent=str(tuple(listeent))# tableau Html\n",
    "       \n",
    "        L[cpt+1].append(ent)\n",
    "        #L[cpt+1].append(doc.ents)\n",
    "\n",
    "\n",
    "    result_tab=nombre_eng_ligne(L)\n",
    "    #print(result_tab)\n",
    "\n",
    "    result_VP,result_FP,result_FN,result_AUTRE=compare_eng(result_tab)\n",
    "    print(\"enty\",enty)\n",
    "    print(type(enty))\n",
    "    print(type(result_VP))\n",
    "    print(type(Liste_VP))\n",
    "    print(\"result_VP\")\n",
    "    print(result_VP)\n",
    "    print(\"result_FP\")\n",
    "    print(result_FP)\n",
    "    print(\"result_FN\")\n",
    "    print(result_FN)\n",
    "    print(\"result_AUTRE\")\n",
    "    print(result_AUTRE)\n",
    "    for enty in result_VP:\n",
    "        Liste_VP.append(enty.text)\n",
    "    print(type(enty.text))\n",
    "    print(\"Liste VP\",Liste_VP)   \n",
    "    \n",
    "    \n",
    "    for enty in result_FN:\n",
    "        Liste_FN.append(enty.text)\n",
    "        #Liste_FN.split()\n",
    "    #print(\"Liste FN\", Liste_FN)\n",
    "    #print(\"enty\",type(enty))\n",
    "    \n",
    "    venn2([set(Liste_VP), set(Liste_FN)])\n",
    "    \n",
    "    plt.show()\n",
    "    \n",
    "    print(type(result_VP[0]))\n",
    "    \n",
    "\n",
    "    VP = len(result_VP)\n",
    "    FP = len(result_FP)\n",
    "    FN = len(result_FN)\n",
    "    precision = 100*VP/(VP+FP)\n",
    "    rappel = 100*VP/(VP+FN)\n",
    "    f_mesure = (2*precision*rappel)/(precision+rappel)\n",
    "    \n",
    "   \n",
    "    precision_liste.append(precision)\n",
    "    rappel_liste.append(rappel)\n",
    "    f_mesure_liste.append(f_mesure)\n",
    "    \n",
    "    print(\"precision\",precision)\n",
    "    print(\"rappel\",rappel)\n",
    "    print(\"F_mesure\",f_mesure)\n",
    "\n",
    "\n",
    "\n",
    "    interval = time.time() - start_time \n",
    "    \n",
    "    print(interval)\n",
    "    \n",
    "    #print(doc)\n",
    "    #print(doc.ents)\n",
    "\n",
    "#A intégrer mieux\n",
    "# tableau Html\n",
    "#s = \"<table border = '1'>\\n\"\n",
    "#for ligne in L:\n",
    "#   s+=\"<tr><td>%s</td></tr>\\n\"%(\"</td> <td>\".join(ligne))\n",
    "#s+=\"</table>\"\n",
    "#w = open(\"output_reslta_cpt_eng_loc.html\", \"w\")\n",
    "#w.write(s)\n",
    "#w.close()\n",
    "# -\n",
    "   \n",
    "   "
   ]
  },
  {
   "cell_type": "markdown",
   "metadata": {},
   "source": [
    "## VISUALISATION"
   ]
  },
  {
   "cell_type": "markdown",
   "metadata": {},
   "source": [
    "### Tableau"
   ]
  },
  {
   "cell_type": "code",
   "execution_count": 9,
   "metadata": {},
   "outputs": [
    {
     "data": {
      "text/html": [
       "<div>\n",
       "<style scoped>\n",
       "    .dataframe tbody tr th:only-of-type {\n",
       "        vertical-align: middle;\n",
       "    }\n",
       "\n",
       "    .dataframe tbody tr th {\n",
       "        vertical-align: top;\n",
       "    }\n",
       "\n",
       "    .dataframe thead th {\n",
       "        text-align: right;\n",
       "    }\n",
       "</style>\n",
       "<table border=\"1\" class=\"dataframe\">\n",
       "  <thead>\n",
       "    <tr style=\"text-align: right;\">\n",
       "      <th></th>\n",
       "      <th>Precision</th>\n",
       "      <th>Recall</th>\n",
       "      <th>F-Mesure</th>\n",
       "    </tr>\n",
       "  </thead>\n",
       "  <tbody>\n",
       "    <tr>\n",
       "      <th>fr_core_news_sm</th>\n",
       "      <td>94.736842</td>\n",
       "      <td>85.714286</td>\n",
       "      <td>90.000000</td>\n",
       "    </tr>\n",
       "    <tr>\n",
       "      <th>fr_core_news_lg</th>\n",
       "      <td>94.736842</td>\n",
       "      <td>90.000000</td>\n",
       "      <td>92.307692</td>\n",
       "    </tr>\n",
       "    <tr>\n",
       "      <th>fr_core_news_md</th>\n",
       "      <td>94.736842</td>\n",
       "      <td>90.000000</td>\n",
       "      <td>92.307692</td>\n",
       "    </tr>\n",
       "  </tbody>\n",
       "</table>\n",
       "</div>"
      ],
      "text/plain": [
       "                 Precision     Recall   F-Mesure\n",
       "fr_core_news_sm  94.736842  85.714286  90.000000\n",
       "fr_core_news_lg  94.736842  90.000000  92.307692\n",
       "fr_core_news_md  94.736842  90.000000  92.307692"
      ]
     },
     "execution_count": 9,
     "metadata": {},
     "output_type": "execute_result"
    }
   ],
   "source": [
    "tab = pd.DataFrame({\"Precision\":[precision_liste[0],precision_liste[1],precision_liste[2]],\"Recall\":[rappel_liste[0],rappel_liste[1] ,rappel_liste[2] ],\"F-Mesure\":[f_mesure_liste[0] ,f_mesure_liste[1] ,f_mesure_liste[2] ]},index = [liste_model_lang[0] ,liste_model_lang[1] , liste_model_lang[2] ])\n",
    "tab"
   ]
  },
  {
   "cell_type": "code",
   "execution_count": null,
   "metadata": {},
   "outputs": [],
   "source": []
  },
  {
   "cell_type": "code",
   "execution_count": null,
   "metadata": {},
   "outputs": [],
   "source": []
  },
  {
   "cell_type": "code",
   "execution_count": 4,
   "metadata": {},
   "outputs": [
    {
     "data": {
      "image/png": "[encoded data removed]",
      "text/plain": [
       "<Figure size 432x288 with 1 Axes>"
      ]
     },
     "metadata": {},
     "output_type": "display_data"
    }
   ],
   "source": [
    "from collections import Counter\n",
    "import matplotlib.pyplot as plt\n",
    "from matplotlib_venn import venn2, venn3\n",
    "\n",
    "sets = Counter()\n",
    "sets[\"01\"] = 3000\n",
    "sets[\"11\"] = 3\n",
    "sets[\"10\"]  = 5\n",
    "setLabels = [\"set1\", \"set2\"]\n",
    "\n",
    "plt.figure()\n",
    "ax = plt.gca()\n",
    "v = venn2(subsets = sets, set_labels = setLabels, ax = ax)\n",
    "plt.title(\"Venn Diagram\")\n",
    "plt.show()"
   ]
  },
  {
   "cell_type": "code",
   "execution_count": 5,
   "metadata": {},
   "outputs": [
    {
     "data": {
      "image/png": "[encoded data removed]",
      "text/plain": [
       "<Figure size 432x288 with 1 Axes>"
      ]
     },
     "metadata": {},
     "output_type": "display_data"
    },
    {
     "data": {
      "image/png": "[encoded data removed]",
      "text/plain": [
       "<Figure size 432x288 with 1 Axes>"
      ]
     },
     "metadata": {},
     "output_type": "display_data"
    }
   ],
   "source": [
    "# library\n",
    "import matplotlib.pyplot as plt\n",
    "from matplotlib_venn import venn2\n",
    " \n",
    "# First way to call the 2 group Venn diagram:\n",
    "venn2(subsets = (10, 5, 2), set_labels = ('Group A', 'Group B'))\n",
    "plt.show()\n",
    " \n",
    "# Second way\n",
    "venn2([set(['A', 'B', 'C', 'D']), set(['D', 'E', 'F'])])\n",
    "plt.show()\n"
   ]
  },
  {
   "cell_type": "code",
   "execution_count": null,
   "metadata": {},
   "outputs": [],
   "source": []
  }
 ],
 "metadata": {
  "kernelspec": {
   "display_name": "Python 3",
   "language": "python",
   "name": "python3"
  },
  "language_info": {
   "codemirror_mode": {
    "name": "ipython",
    "version": 3
   },
   "file_extension": ".py",
   "mimetype": "text/x-python",
   "name": "python",
   "nbconvert_exporter": "python",
   "pygments_lexer": "ipython3",
   "version": "3.8.3"
  }
 },
 "nbformat": 4,
 "nbformat_minor": 4
}
